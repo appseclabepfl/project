{
 "cells": [
  {
   "cell_type": "code",
   "execution_count": 1,
   "metadata": {},
   "outputs": [],
   "source": [
    "import datetime\n",
    "\n",
    "from cryptography import x509\n",
    "from cryptography.x509.oid import NameOID\n",
    "from cryptography.hazmat.primitives import hashes\n",
    "from cryptography.hazmat.backends import default_backend\n",
    "from cryptography.hazmat.primitives import serialization\n",
    "from cryptography.hazmat.primitives.asymmetric import rsa\n",
    "from cryptography.hazmat.primitives.asymmetric import padding\n",
    "from cryptography.hazmat.primitives.serialization import load_pem_public_key\n",
    "from cryptography.hazmat.primitives.serialization import load_pem_private_key"
   ]
  },
  {
   "cell_type": "code",
   "execution_count": 2,
   "metadata": {},
   "outputs": [],
   "source": [
    "def generate_rsa_private_key(public_exponent=65537, key_size=2048):\n",
    "    return rsa.generate_private_key(public_exponent=public_exponent, key_size=key_size, backend=default_backend())"
   ]
  },
  {
   "cell_type": "code",
   "execution_count": 3,
   "metadata": {},
   "outputs": [],
   "source": [
    "\n",
    "def get_user_attributes_dummy(user_id):\n",
    "    \"\"\"\n",
    "    Returns database attributes for a user id\n",
    "\n",
    "    Parameters\n",
    "    ----------\n",
    "    user_id: str\n",
    "        User identifier\n",
    "\n",
    "    Returns\n",
    "    -------\n",
    "    Tuple(user_first_name, user_last_name, user_email)\n",
    "        user_first_name: str\n",
    "            User first name\n",
    "        user_last_name: str\n",
    "            User last name\n",
    "        user_email: str\n",
    "            User email\n",
    "\n",
    "    \"\"\"\n",
    "    # MySQL prepared statement\n",
    "    # sql_command = ('SELECT lastname, firstname, email FROM users WHERE uid = %s')\n",
    "    # cursor.execute(sql_command, (uid,))\n",
    "    user_id\n",
    "    return \"Tairieur\", \"Alain\", \"alaintairieur@gmail.com\"\n"
   ]
  },
  {
   "cell_type": "code",
   "execution_count": 4,
   "metadata": {},
   "outputs": [],
   "source": [
    "def write_certificate(certificate, certificate_file_name):\n",
    "    with open(certificate_file_name, 'w') as file:\n",
    "        file.write(certificate.public_bytes(encoding=serialization.Encoding.PEM).decode())"
   ]
  },
  {
   "cell_type": "code",
   "execution_count": 5,
   "metadata": {},
   "outputs": [],
   "source": [
    "def read_certificate(certificate_file_name):\n",
    "    pem_cert = open(certificate_file_name,\"rb\").read()\n",
    "    return x509.load_pem_x509_certificate(pem_cert, default_backend())"
   ]
  },
  {
   "cell_type": "code",
   "execution_count": 6,
   "metadata": {},
   "outputs": [],
   "source": [
    "def save_key(key, filename):\n",
    "    pem = key.private_bytes(\n",
    "        encoding=serialization.Encoding.PEM,\n",
    "        format=serialization.PrivateFormat.TraditionalOpenSSL,\n",
    "        encryption_algorithm=serialization.NoEncryption()\n",
    "    )\n",
    "    with open(filename, 'wb') as pem_out:\n",
    "        pem_out.write(pem)"
   ]
  },
  {
   "cell_type": "code",
   "execution_count": 7,
   "metadata": {},
   "outputs": [],
   "source": [
    "def load_key(filename):\n",
    "    with open(filename, 'rb') as pem_in:\n",
    "        pemlines = pem_in.read()\n",
    "    private_key = load_pem_private_key(pemlines, None, default_backend())\n",
    "    return private_key"
   ]
  },
  {
   "cell_type": "code",
   "execution_count": 8,
   "metadata": {},
   "outputs": [],
   "source": [
    "def create_root_certificate(root_certificate_path=None, root_private_key_path=None):\n",
    "    \n",
    "    root_key = generate_rsa_private_key()\n",
    "    \n",
    "    subject = issuer = x509.Name([\n",
    "        x509.NameAttribute(NameOID.COUNTRY_NAME, u\"CH\"),\n",
    "        x509.NameAttribute(NameOID.STATE_OR_PROVINCE_NAME, u\"Zurich\"),\n",
    "        x509.NameAttribute(NameOID.LOCALITY_NAME, u\"Zurich\"),\n",
    "        x509.NameAttribute(NameOID.ORGANIZATION_NAME, u\"iMoviesCA\"),\n",
    "    ])\n",
    "\n",
    "    root_certificate = x509.CertificateBuilder().subject_name(\n",
    "        subject\n",
    "    ).issuer_name(\n",
    "        issuer\n",
    "    ).public_key(\n",
    "        root_key.public_key()\n",
    "    ).serial_number(\n",
    "        x509.random_serial_number()\n",
    "    ).not_valid_before(\n",
    "        datetime.datetime.utcnow()\n",
    "    ).not_valid_after(\n",
    "        datetime.datetime.utcnow() + datetime.timedelta(days=365)\n",
    "    ).sign(root_key, hashes.SHA256(), default_backend())\n",
    "    \n",
    "    if root_certificate_path:\n",
    "        write_certificate(root_certificate, root_certificate_path)\n",
    "        \n",
    "    if root_private_key_path:\n",
    "        save_key(root_key, root_private_key_path)\n",
    "        \n",
    "    return root_certificate, root_key"
   ]
  },
  {
   "cell_type": "code",
   "execution_count": 9,
   "metadata": {},
   "outputs": [],
   "source": [
    "def certificate_issuing(user_id, user_pwd_hash, root_certificate_path= 'root_certificate.pem', root_private_key_path=\"root_private_key.pem\", validity = 30):\n",
    "    \"\"\"\n",
    "    Issues certificate for users if correctly authenticated\n",
    "\n",
    "    Parameters\n",
    "    ----------\n",
    "\n",
    "    user_id: str\n",
    "        User identifier\n",
    "\n",
    "    user_pwd_hash: str\n",
    "        Hash of the user password\n",
    "\n",
    "    Returns\n",
    "    -------\n",
    "    New certificate\n",
    "\n",
    "    \"\"\"\n",
    "\n",
    "    #Connect to the database and check user_id, user_pwd_hash\n",
    "\n",
    "    root_certificate = read_certificate(root_certificate_path)\n",
    "    \n",
    "    user_last_name, user_first_name, user_email = get_user_attributes_dummy(user_id)\n",
    "    \n",
    "    certificate_key = generate_rsa_private_key()\n",
    "    \n",
    "    root_key = load_key(root_private_key_path)\n",
    "    \n",
    "    certificate = x509.CertificateBuilder().subject_name(x509.Name([\n",
    "        x509.NameAttribute(NameOID.COUNTRY_NAME, u\"CH\"),\n",
    "        x509.NameAttribute(NameOID.STATE_OR_PROVINCE_NAME, u\"Zurich\"),\n",
    "        x509.NameAttribute(NameOID.LOCALITY_NAME, u\"Zurich\"),\n",
    "        x509.NameAttribute(NameOID.ORGANIZATION_NAME, u\"iMovies\"),\n",
    "        x509.NameAttribute(NameOID.USER_ID, u\"{}\".format(user_id)),\n",
    "        x509.NameAttribute(NameOID.SURNAME, u\"{}\".format(user_last_name)),\n",
    "        x509.NameAttribute(NameOID.GIVEN_NAME, u\"{}\".format(user_first_name)),\n",
    "        x509.NameAttribute(NameOID.EMAIL_ADDRESS, u\"{}\".format(user_email)),\n",
    "    ])).issuer_name(\n",
    "        root_certificate.issuer\n",
    "    ).public_key(\n",
    "        certificate_key.public_key()\n",
    "    ).serial_number(\n",
    "        x509.random_serial_number()\n",
    "    ).not_valid_before(\n",
    "        datetime.datetime.utcnow()\n",
    "    ).not_valid_after(\n",
    "    datetime.datetime.utcnow() + datetime.timedelta(days=validity)\n",
    "    ).sign(root_key, hashes.SHA256(), default_backend())\n",
    "    \n",
    "    return certificate, certificate_key"
   ]
  },
  {
   "cell_type": "code",
   "execution_count": 10,
   "metadata": {},
   "outputs": [],
   "source": [
    "def verify_certificate(certificate, root_certificate):\n",
    "    \n",
    "    \n",
    "    try:\n",
    "        #verify raises ~cryptography.exceptions.InvalidSignature exception if the signature fails to verify.\n",
    "        root_certificate.public_key().verify(\n",
    "            certificate.signature,\n",
    "            certificate.tbs_certificate_bytes,\n",
    "            # Depends on the algorithm used to create the certificate\n",
    "            padding.PKCS1v15(),\n",
    "            certificate.signature_hash_algorithm,\n",
    "        )\n",
    "        return True\n",
    "    except:\n",
    "        return False"
   ]
  },
  {
   "cell_type": "code",
   "execution_count": 11,
   "metadata": {},
   "outputs": [],
   "source": [
    "def revoke_certificate(certificate):\n",
    "    builder = x509.RevokedCertificateBuilder()\n",
    "    builder = builder.revocation_date(datetime.today())\n",
    "    builder = builder.serial_number(certificate.serial_number)\n",
    "    return builder.build(default_backend())"
   ]
  },
  {
   "cell_type": "code",
   "execution_count": 12,
   "metadata": {},
   "outputs": [],
   "source": [
    "class CRL:\n",
    "    def __init__(self):\n",
    "        self.revoked_certificates = []\n",
    "        \n",
    "    def revoke_certificate(self, certificate):\n",
    "        builder = x509.RevokedCertificateBuilder()\n",
    "        builder = builder.revocation_date(datetime.datetime.today())\n",
    "        builder = builder.serial_number(certificate.serial_number)\n",
    "        self.revoked_certificates.append(builder.build(default_backend()))\n",
    "        \n",
    "    def get_crl(self, root_certificate_path= 'root_certificate.pem', root_private_key_path=\"root_private_key.pem\"):\n",
    "    # Load our root cert\n",
    "        root_key = load_key(root_private_key_path)\n",
    "        \n",
    "        root_certificate = read_certificate(root_certificate_path)\n",
    "\n",
    "        builder = x509.CertificateRevocationListBuilder()\n",
    "        builder = builder.last_update(datetime.datetime.today())\n",
    "        builder = builder.next_update(datetime.datetime.today() + datetime.timedelta(1, 0, 0))\n",
    "        builder = builder.issuer_name(root_certificate.issuer)\n",
    "        if self.revoked_certificates:\n",
    "            for revoked_cert in self.revoked_certificates:\n",
    "                builder = builder.add_revoked_certificate(revoked_cert)\n",
    "        cert_revocation_list = builder.sign(\n",
    "            private_key=root_key, algorithm=hashes.SHA256(), backend=default_backend()\n",
    "        )\n",
    "        return cert_revocation_list.public_bytes(encoding=serialization.Encoding.PEM)\n",
    "    \n",
    "    def update_crl(self, certificate):\n",
    "        self.revoke_certificate(certificate)\n",
    "        return self.get_crl()\n",
    "    "
   ]
  },
  {
   "cell_type": "code",
   "execution_count": 13,
   "metadata": {},
   "outputs": [],
   "source": [
    "def is_revoked(certificate, crl_pem):\n",
    "    crl = x509.load_pem_x509_crl(crl_pem, backend=default_backend())\n",
    "    return crl.get_revoked_certificate_by_serial_number(certificate.serial_number) != None"
   ]
  },
  {
   "cell_type": "code",
   "execution_count": 14,
   "metadata": {},
   "outputs": [],
   "source": [
    "root_certificate, root_key = create_root_certificate('root_certificate.pem', \"root_private_key.pem\")"
   ]
  },
  {
   "cell_type": "code",
   "execution_count": 15,
   "metadata": {},
   "outputs": [],
   "source": [
    "certificate, private_key = certificate_issuing(\"user_id\", \"user_password\")"
   ]
  },
  {
   "cell_type": "code",
   "execution_count": 16,
   "metadata": {
    "scrolled": true
   },
   "outputs": [
    {
     "data": {
      "text/plain": [
       "True"
      ]
     },
     "execution_count": 16,
     "metadata": {},
     "output_type": "execute_result"
    }
   ],
   "source": [
    "verify_certificate(certificate, root_certificate)"
   ]
  },
  {
   "cell_type": "code",
   "execution_count": 17,
   "metadata": {},
   "outputs": [],
   "source": [
    "crl = CRL()\n",
    "crl_pem = crl.update_crl(certificate)"
   ]
  },
  {
   "cell_type": "code",
   "execution_count": 18,
   "metadata": {},
   "outputs": [],
   "source": [
    "crl = CRL()\n",
    "crl_pem = crl.get_crl()"
   ]
  },
  {
   "cell_type": "code",
   "execution_count": 19,
   "metadata": {},
   "outputs": [
    {
     "data": {
      "text/plain": [
       "False"
      ]
     },
     "execution_count": 19,
     "metadata": {},
     "output_type": "execute_result"
    }
   ],
   "source": [
    "is_revoked(certificate, crl_pem)"
   ]
  },
  {
   "cell_type": "code",
   "execution_count": 20,
   "metadata": {},
   "outputs": [
    {
     "data": {
      "text/plain": [
       "<Certificate(subject=<Name(C=CH,ST=Zurich,L=Zurich,O=iMovies,UID=user_id,2.5.4.4=Tairieur,2.5.4.42=Alain,1.2.840.113549.1.9.1=alaintairieur@gmail.com)>, ...)>"
      ]
     },
     "execution_count": 20,
     "metadata": {},
     "output_type": "execute_result"
    }
   ],
   "source": [
    "certificate"
   ]
  },
  {
   "cell_type": "code",
   "execution_count": null,
   "metadata": {},
   "outputs": [],
   "source": []
  }
 ],
 "metadata": {
  "kernelspec": {
   "display_name": "Python 3",
   "language": "python",
   "name": "python3"
  },
  "language_info": {
   "codemirror_mode": {
    "name": "ipython",
    "version": 3
   },
   "file_extension": ".py",
   "mimetype": "text/x-python",
   "name": "python",
   "nbconvert_exporter": "python",
   "pygments_lexer": "ipython3",
   "version": "3.6.8"
  }
 },
 "nbformat": 4,
 "nbformat_minor": 2
}
